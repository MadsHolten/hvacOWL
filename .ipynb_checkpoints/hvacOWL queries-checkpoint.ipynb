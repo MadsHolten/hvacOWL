{
 "cells": [
  {
   "cell_type": "markdown",
   "metadata": {},
   "source": [
    "# hvacOWL\n",
    "### _SPARQL query examples_"
   ]
  },
  {
   "cell_type": "markdown",
   "metadata": {},
   "source": [
    "Import _rdflib_ package and parse *hvacOwl_heater* to the graph:"
   ]
  },
  {
   "cell_type": "code",
   "execution_count": 31,
   "metadata": {
    "collapsed": false
   },
   "outputs": [
    {
     "data": {
      "text/plain": [
       "<Graph identifier=Ne3b4aa392b0143578ace4983f4364577 (<class 'rdflib.graph.Graph'>)>"
      ]
     },
     "execution_count": 31,
     "metadata": {},
     "output_type": "execute_result"
    }
   ],
   "source": [
    "__author__ = \"Mads Holten Rasmussen\"\n",
    "\n",
    "from rdflib import Graph, URIRef, Namespace, Literal, RDF, RDFS, BNode\n",
    "from rdflib.plugins.sparql import prepareQuery\n",
    "import uuid #Generates UUID's / GUID's\n",
    "from IPython.core.display import display, HTML\n",
    "\n",
    "g = Graph()\n",
    "\n",
    "gUrl = 'http://www.student.dtu.dk/~mhoras/devices/hvacowl_heater.ttl'\n",
    "\n",
    "g.parse(gUrl, format='turtle')"
   ]
  },
  {
   "cell_type": "markdown",
   "metadata": {},
   "source": [
    "Simple definition to show result in a table"
   ]
  },
  {
   "cell_type": "code",
   "execution_count": 32,
   "metadata": {
    "collapsed": false
   },
   "outputs": [],
   "source": [
    "def queryResultToHTMLTable(queryResult):\n",
    "    HTMLResult = '<table><tr style=\"color:white;background-color:gray;font-weight:bold\">'\n",
    "    \n",
    "    # print variable names\n",
    "    for varName in queryResult.vars:       \n",
    "        HTMLResult = HTMLResult + '<td>' + varName + '</td>'\n",
    "    HTMLResult = HTMLResult + '</tr>'\n",
    "    \n",
    "    # print values from each row\n",
    "    for row in queryResult:\n",
    "        HTMLResult = HTMLResult + '<tr>'   \n",
    "        for column in row:\n",
    "            HTMLResult = HTMLResult + '<td>' + column + '</td>'\n",
    "        HTMLResult = HTMLResult + '</tr>'\n",
    "    \n",
    "    HTMLResult = HTMLResult + '</table>'\n",
    "    display(HTML(HTMLResult))"
   ]
  },
  {
   "cell_type": "markdown",
   "metadata": {},
   "source": [
    "Assign namespaces to variables for easier referencing:"
   ]
  },
  {
   "cell_type": "code",
   "execution_count": 33,
   "metadata": {
    "collapsed": false,
    "scrolled": true
   },
   "outputs": [],
   "source": [
    "# Namespaces\n",
    "inst = Namespace('http://www.student.dtu.dk/~mhoras/devices/hvacowl_heater#')\n",
    "hvac = Namespace('http://www.student.dtu.dk/~mhoras/hvacowl#')\n",
    "saref = Namespace('https://w3id.org/saref#')\n",
    "qud = Namespace('http://qudt.org/schema/qudt#')\n",
    "unit = Namespace('http://qudt.org/vocab/unit#')"
   ]
  },
  {
   "cell_type": "markdown",
   "metadata": {},
   "source": [
    "Check to see how many statements are in the graph object:"
   ]
  },
  {
   "cell_type": "code",
   "execution_count": 34,
   "metadata": {
    "collapsed": false
   },
   "outputs": [
    {
     "data": {
      "text/plain": [
       "24"
      ]
     },
     "execution_count": 34,
     "metadata": {},
     "output_type": "execute_result"
    }
   ],
   "source": [
    "len(g)"
   ]
  },
  {
   "cell_type": "markdown",
   "metadata": {},
   "source": [
    "### SPARQL"
   ]
  },
  {
   "cell_type": "markdown",
   "metadata": {},
   "source": [
    "Query examples..."
   ]
  },
  {
   "cell_type": "raw",
   "metadata": {},
   "source": [
    "SELECT ?s ?p ?o\n",
    "WHERE {\n",
    "    ?s ?p ?o .\n",
    "}\n",
    "LIMIT 20"
   ]
  },
  {
   "cell_type": "code",
   "execution_count": 35,
   "metadata": {
    "collapsed": false
   },
   "outputs": [],
   "source": [
    "q = prepareQuery(\n",
    "    'SELECT ?s ?p ?o WHERE { ?s ?p ?o } LIMIT 20',\n",
    "    initNs = { \"hvac\": hvac, \"rdf\": RDF, \"qud\": qud, \"unit\": unit })"
   ]
  },
  {
   "cell_type": "code",
   "execution_count": 36,
   "metadata": {
    "collapsed": false
   },
   "outputs": [
    {
     "data": {
      "text/html": [
       "<table><tr style=\"color:white;background-color:gray;font-weight:bold\"><td>s</td><td>p</td><td>o</td></tr><tr><td>http://www.student.dtu.dk/~mhoras/devices/hvacowl_heater#Heater_H1</td><td>http://www.student.dtu.dk/~mhoras/hvacowl#volumeFlow</td><td>http://www.student.dtu.dk/~mhoras/devices/hvacowl_heater#VolumeFlow_1</td></tr><tr><td>http://www.student.dtu.dk/~mhoras/devices/hvacowl_heater#BuildingSpace_WC1</td><td>http://www.w3.org/1999/02/22-rdf-syntax-ns#type</td><td>https://w3id.org/saref#BuildingSpace</td></tr><tr><td>http://www.student.dtu.dk/~mhoras/devices/hvacowl_heater#VolumeFlow_1</td><td>http://www.w3.org/1999/02/22-rdf-syntax-ns#type</td><td>http://www.student.dtu.dk/~mhoras/hvacowl#VolumeFlow</td></tr><tr><td>http://www.student.dtu.dk/~mhoras/devices/hvacowl_heater#BuildingSpace_WC1</td><td>http://www.w3.org/2000/01/rdf-schema#label</td><td>Toiletrum 1</td></tr><tr><td>http://www.student.dtu.dk/~mhoras/devices/hvacowl_heater#Port_Heater_H1_Flow</td><td>http://www.w3.org/2000/01/rdf-schema#label</td><td>Heater H1 flow port</td></tr><tr><td>http://www.student.dtu.dk/~mhoras/devices/hvacowl_heater#Heater_H1</td><td>http://www.student.dtu.dk/~mhoras/hvacowl#hasPort</td><td>http://www.student.dtu.dk/~mhoras/devices/hvacowl_heater#Port_Heater_H1_Return</td></tr><tr><td>http://www.student.dtu.dk/~mhoras/devices/hvacowl_heater#Port_Heater_H1_Return</td><td>http://www.w3.org/1999/02/22-rdf-syntax-ns#type</td><td>http://www.student.dtu.dk/~mhoras/hvacowl#SourcePort</td></tr><tr><td>http://www.student.dtu.dk/~mhoras/devices/hvacowl_heater#BuildingSpace_WC1</td><td>https://w3id.org/saref#contains</td><td>http://www.student.dtu.dk/~mhoras/devices/hvacowl_heater#Heater_H1</td></tr><tr><td>http://www.student.dtu.dk/~mhoras/devices/hvacowl_heater#Heater_H1</td><td>http://www.w3.org/2000/01/rdf-schema#label</td><td>Rumopvarmer 1</td></tr><tr><td>http://www.student.dtu.dk/~mhoras/devices/hvacowl_heater#Port_Heater_H1_Return</td><td>http://www.w3.org/2000/01/rdf-schema#label</td><td>Rumopvarmer H1 returløbsport</td></tr><tr><td>http://www.student.dtu.dk/~mhoras/devices/hvacowl_heater#Port_Heater_H1_Flow</td><td>http://www.student.dtu.dk/~mhoras/hvacowl#containedIn</td><td>http://www.student.dtu.dk/~mhoras/devices/hvacowl_heater#Heater_H1</td></tr><tr><td>http://www.student.dtu.dk/~mhoras/devices/hvacowl_heater#BuildingSpace_WC1</td><td>https://w3id.org/saref#hasSpaceType</td><td>WC room</td></tr><tr><td>http://www.student.dtu.dk/~mhoras/devices/hvacowl_heater#Heater_H1</td><td>https://w3id.org/saref#isLocatedIn</td><td>http://www.student.dtu.dk/~mhoras/devices/hvacowl_heater#BuildingSpace_WC1</td></tr><tr><td>http://www.student.dtu.dk/~mhoras/devices/hvacowl_heater#VolumeFlow_1</td><td>http://www.student.dtu.dk/~mhoras/hvacowl#numericValue</td><td>0.3</td></tr><tr><td>http://www.student.dtu.dk/~mhoras/devices/hvacowl_heater#BuildingSpace_WC1</td><td>https://w3id.org/saref#hasSpaceType</td><td>Toiletrum</td></tr><tr><td>http://www.student.dtu.dk/~mhoras/devices/hvacowl_heater#Heater_H1</td><td>http://www.w3.org/2000/01/rdf-schema#label</td><td>Space heater 1</td></tr><tr><td>http://www.student.dtu.dk/~mhoras/devices/hvacowl_heater#Port_Heater_H1_Flow</td><td>http://www.w3.org/1999/02/22-rdf-syntax-ns#type</td><td>http://www.student.dtu.dk/~mhoras/hvacowl#SinkPort</td></tr><tr><td>http://www.student.dtu.dk/~mhoras/devices/hvacowl_heater#Heater_H1</td><td>http://www.w3.org/1999/02/22-rdf-syntax-ns#type</td><td>http://www.student.dtu.dk/~mhoras/hvacowl#SpaceHeater</td></tr><tr><td>http://www.student.dtu.dk/~mhoras/devices/hvacowl_heater#VolumeFlow_1</td><td>http://www.student.dtu.dk/~mhoras/hvacowl#unit</td><td>http://qudt.org/vocab/unit#CubicMeterPerHour</td></tr><tr><td>http://www.student.dtu.dk/~mhoras/devices/hvacowl_heater#BuildingSpace_WC1</td><td>http://www.w3.org/2000/01/rdf-schema#label</td><td>WC room 1</td></tr></table>"
      ],
      "text/plain": [
       "<IPython.core.display.HTML object>"
      ]
     },
     "metadata": {},
     "output_type": "display_data"
    }
   ],
   "source": [
    "queryResultToHTMLTable(g.query(q))"
   ]
  },
  {
   "cell_type": "markdown",
   "metadata": {},
   "source": [
    "# rdflib functions\n",
    "List of predicates and objects"
   ]
  },
  {
   "cell_type": "code",
   "execution_count": 37,
   "metadata": {
    "collapsed": false
   },
   "outputs": [
    {
     "name": "stdout",
     "output_type": "stream",
     "text": [
      "(rdflib.term.URIRef('https://w3id.org/saref#isLocatedIn'), rdflib.term.URIRef('http://www.student.dtu.dk/~mhoras/devices/hvacowl_heater#BuildingSpace_WC1'))\n",
      "(rdflib.term.URIRef('http://www.student.dtu.dk/~mhoras/hvacowl#volumeFlow'), rdflib.term.URIRef('http://www.student.dtu.dk/~mhoras/devices/hvacowl_heater#VolumeFlow_1'))\n",
      "(rdflib.term.URIRef('http://www.student.dtu.dk/~mhoras/hvacowl#hasPort'), rdflib.term.URIRef('http://www.student.dtu.dk/~mhoras/devices/hvacowl_heater#Port_Heater_H1_Flow'))\n",
      "(rdflib.term.URIRef('http://www.student.dtu.dk/~mhoras/hvacowl#hasPort'), rdflib.term.URIRef('http://www.student.dtu.dk/~mhoras/devices/hvacowl_heater#Port_Heater_H1_Return'))\n",
      "(rdflib.term.URIRef('http://www.w3.org/2000/01/rdf-schema#label'), rdflib.term.Literal('Space heater 1', lang='en'))\n",
      "(rdflib.term.URIRef('http://www.w3.org/1999/02/22-rdf-syntax-ns#type'), rdflib.term.URIRef('http://www.student.dtu.dk/~mhoras/hvacowl#SpaceHeater'))\n",
      "(rdflib.term.URIRef('http://www.w3.org/2000/01/rdf-schema#label'), rdflib.term.Literal('Rumopvarmer 1', lang='da'))\n"
     ]
    }
   ],
   "source": [
    "for st in g.predicate_objects(inst.Heater_H1):\n",
    "     print (st)"
   ]
  },
  {
   "cell_type": "markdown",
   "metadata": {},
   "source": [
    "## Instances and Types"
   ]
  },
  {
   "cell_type": "code",
   "execution_count": 39,
   "metadata": {
    "collapsed": false
   },
   "outputs": [],
   "source": [
    "q = prepareQuery(\n",
    "    'SELECT ?Instances ?Types WHERE { ?Instances rdf:type ?Types } LIMIT 20',\n",
    "    initNs = { \"rdf\": RDF })"
   ]
  },
  {
   "cell_type": "code",
   "execution_count": 40,
   "metadata": {
    "collapsed": false
   },
   "outputs": [
    {
     "data": {
      "text/html": [
       "<table><tr style=\"color:white;background-color:gray;font-weight:bold\"><td>Instances</td><td>Types</td></tr><tr><td>http://www.student.dtu.dk/~mhoras/devices/hvacowl_heater#Port_Heater_H1_Flow</td><td>http://www.student.dtu.dk/~mhoras/hvacowl#SinkPort</td></tr><tr><td>http://www.student.dtu.dk/~mhoras/devices/hvacowl_heater#Heater_H1</td><td>http://www.student.dtu.dk/~mhoras/hvacowl#SpaceHeater</td></tr><tr><td>http://www.student.dtu.dk/~mhoras/devices/hvacowl_heater#Port_Heater_H1_Return</td><td>http://www.student.dtu.dk/~mhoras/hvacowl#SourcePort</td></tr><tr><td>http://www.student.dtu.dk/~mhoras/devices/hvacowl_heater#BuildingSpace_WC1</td><td>https://w3id.org/saref#BuildingSpace</td></tr><tr><td>http://www.student.dtu.dk/~mhoras/devices/hvacowl_heater#VolumeFlow_1</td><td>http://www.student.dtu.dk/~mhoras/hvacowl#VolumeFlow</td></tr></table>"
      ],
      "text/plain": [
       "<IPython.core.display.HTML object>"
      ]
     },
     "metadata": {},
     "output_type": "display_data"
    }
   ],
   "source": [
    "queryResultToHTMLTable(g.query(q))"
   ]
  },
  {
   "cell_type": "markdown",
   "metadata": {},
   "source": [
    "## Init Bindings"
   ]
  },
  {
   "cell_type": "code",
   "execution_count": 41,
   "metadata": {
    "collapsed": true
   },
   "outputs": [],
   "source": [
    "q = prepareQuery(\n",
    "    'SELECT ?p ?o WHERE { ?s ?p ?o } LIMIT 20',\n",
    "    initNs = { \"inst\": inst })"
   ]
  },
  {
   "cell_type": "code",
   "execution_count": 43,
   "metadata": {
    "collapsed": false
   },
   "outputs": [
    {
     "data": {
      "text/html": [
       "<table><tr style=\"color:white;background-color:gray;font-weight:bold\"><td>p</td><td>o</td></tr><tr><td>https://w3id.org/saref#isLocatedIn</td><td>http://www.student.dtu.dk/~mhoras/devices/hvacowl_heater#BuildingSpace_WC1</td></tr><tr><td>http://www.student.dtu.dk/~mhoras/hvacowl#volumeFlow</td><td>http://www.student.dtu.dk/~mhoras/devices/hvacowl_heater#VolumeFlow_1</td></tr><tr><td>http://www.student.dtu.dk/~mhoras/hvacowl#hasPort</td><td>http://www.student.dtu.dk/~mhoras/devices/hvacowl_heater#Port_Heater_H1_Flow</td></tr><tr><td>http://www.student.dtu.dk/~mhoras/hvacowl#hasPort</td><td>http://www.student.dtu.dk/~mhoras/devices/hvacowl_heater#Port_Heater_H1_Return</td></tr><tr><td>http://www.w3.org/2000/01/rdf-schema#label</td><td>Space heater 1</td></tr><tr><td>http://www.w3.org/1999/02/22-rdf-syntax-ns#type</td><td>http://www.student.dtu.dk/~mhoras/hvacowl#SpaceHeater</td></tr><tr><td>http://www.w3.org/2000/01/rdf-schema#label</td><td>Rumopvarmer 1</td></tr></table>"
      ],
      "text/plain": [
       "<IPython.core.display.HTML object>"
      ]
     },
     "metadata": {},
     "output_type": "display_data"
    }
   ],
   "source": [
    "queryResultToHTMLTable(g.query(q, initBindings={'s': inst.Heater_H1}))"
   ]
  },
  {
   "cell_type": "markdown",
   "metadata": {},
   "source": [
    "## Unit type (WIP)"
   ]
  },
  {
   "cell_type": "code",
   "execution_count": 48,
   "metadata": {
    "collapsed": true
   },
   "outputs": [],
   "source": [
    "q = prepareQuery(\n",
    "    'SELECT ?p ?o WHERE { inst:VolumeFlow_1 ?p ?o } LIMIT 20',\n",
    "    initNs = { \"inst\": inst })"
   ]
  },
  {
   "cell_type": "code",
   "execution_count": 49,
   "metadata": {
    "collapsed": false
   },
   "outputs": [
    {
     "data": {
      "text/html": [
       "<table><tr style=\"color:white;background-color:gray;font-weight:bold\"><td>p</td><td>o</td></tr><tr><td>http://www.student.dtu.dk/~mhoras/hvacowl#numericValue</td><td>0.3</td></tr><tr><td>http://www.student.dtu.dk/~mhoras/hvacowl#unit</td><td>http://qudt.org/vocab/unit#CubicMeterPerHour</td></tr><tr><td>http://www.w3.org/1999/02/22-rdf-syntax-ns#type</td><td>http://www.student.dtu.dk/~mhoras/hvacowl#VolumeFlow</td></tr></table>"
      ],
      "text/plain": [
       "<IPython.core.display.HTML object>"
      ]
     },
     "metadata": {},
     "output_type": "display_data"
    }
   ],
   "source": [
    "queryResultToHTMLTable(g.query(q))"
   ]
  },
  {
   "cell_type": "code",
   "execution_count": null,
   "metadata": {
    "collapsed": true
   },
   "outputs": [],
   "source": []
  }
 ],
 "metadata": {
  "anaconda-cloud": {},
  "kernelspec": {
   "display_name": "Python [Root]",
   "language": "python",
   "name": "Python [Root]"
  },
  "language_info": {
   "codemirror_mode": {
    "name": "ipython",
    "version": 3
   },
   "file_extension": ".py",
   "mimetype": "text/x-python",
   "name": "python",
   "nbconvert_exporter": "python",
   "pygments_lexer": "ipython3",
   "version": "3.5.2"
  }
 },
 "nbformat": 4,
 "nbformat_minor": 0
}
